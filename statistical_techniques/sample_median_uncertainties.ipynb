{
 "cells": [
  {
   "cell_type": "code",
   "execution_count": 1,
   "metadata": {},
   "outputs": [],
   "source": [
    "# This code shows how to get median uncertainties for samples using bootstrap resampling with and without errorbars on the individual measurements"
   ]
  },
  {
   "cell_type": "code",
   "execution_count": 2,
   "metadata": {},
   "outputs": [],
   "source": [
    "### read in the necessary packages\n",
    "\n",
    "from astropy.io import fits\n",
    "from astropy.table import Table\n",
    "from astropy.stats import bootstrap\n",
    "\n",
    "import pandas as pd\n",
    "\n",
    "import numpy as np\n",
    "import matplotlib.pyplot as plt"
   ]
  },
  {
   "cell_type": "code",
   "execution_count": 3,
   "metadata": {},
   "outputs": [
    {
     "name": "stdout",
     "output_type": "stream",
     "text": [
      "        PLATEID  FIBERID  H_ALPHA_FLUX  H_ALPHA_FLUX_ERR  H_BETA_FLUX  \\\n",
      "0           266        1    462.117584         10.688581    98.786781   \n",
      "1           266        2     15.469431          6.547065     8.996722   \n",
      "2           266        4     18.467436          7.449744     6.541351   \n",
      "3           266        5      0.000000         -0.811374   -11.287027   \n",
      "4           266        6    181.526215          3.646693    47.366501   \n",
      "...         ...      ...           ...               ...          ...   \n",
      "927547     2974      633     12.875943          2.346492     1.761674   \n",
      "927548     2974      635     62.370274          5.478751    17.035000   \n",
      "927549     2974      636     13.253593          3.914706     2.430622   \n",
      "927550     2974      637     14.686159          2.942574     5.930055   \n",
      "927551     2974      638      0.217731          2.558428     5.126189   \n",
      "\n",
      "        H_BETA_FLUX_ERR  OII_3726_FLUX  OII_3726_FLUX_ERR  OII_3729_FLUX  \\\n",
      "0              6.727546     307.001404        2327.570801      34.059772   \n",
      "1              3.622337       6.997347           5.053778      13.395111   \n",
      "2              5.414522      34.656372          11.958100     -19.340874   \n",
      "3              4.274612       1.565117           1.375394       2.147942   \n",
      "4              3.055110      29.878283           6.475568      19.592308   \n",
      "...                 ...            ...                ...            ...   \n",
      "927547         2.054091       1.162094           3.139017       2.326743   \n",
      "927548         2.706483      36.411007           9.206394      59.867775   \n",
      "927549         2.616468       9.779831           4.807202       3.717221   \n",
      "927550         2.205825       8.468143           3.101217       1.940395   \n",
      "927551         2.809724       2.514672           3.046455       0.411992   \n",
      "\n",
      "        OII_3729_FLUX_ERR  ...  FIB_SFR_MEDIAN         Z     Z_ERR    MJD  \\\n",
      "0              159.323578  ...       -1.320937  0.021275  0.000009  51602   \n",
      "1                5.195005  ...       -0.688796  0.213925  0.000052  51602   \n",
      "2               11.910530  ...       -1.315850  0.126554  0.000062  51602   \n",
      "3                1.363652  ...       -1.000000  0.448645  0.000168  51602   \n",
      "4                6.553017  ...       -0.890750  0.055988  0.000011  51602   \n",
      "...                   ...  ...             ...       ...       ...    ...   \n",
      "927547           3.176558  ...       -2.235181  0.033870  0.000009  54592   \n",
      "927548           9.298899  ...       -1.003444  0.159622  0.000023  54592   \n",
      "927549           4.755832  ...       -0.772978  0.167358  0.000030  54592   \n",
      "927550           2.939687  ...       -1.448591  0.111548  0.000017  54592   \n",
      "927551           2.931482  ...       -0.978988  0.223957  0.000034  54592   \n",
      "\n",
      "        PHOTOID1  PHOTOID2  PHOTOID3  PHOTOID4  PHOTOID5  TARGETTYPE  \n",
      "0            756         1         1       206       129   b'GALAXY'  \n",
      "1            756         1         1       208       235   b'GALAXY'  \n",
      "2            752         1         2        22       228   b'GALAXY'  \n",
      "3            752         1         2        21       293   b'GALAXY'  \n",
      "4            756         1         2       208       268   b'GALAXY'  \n",
      "...          ...       ...       ...       ...       ...         ...  \n",
      "927547      2207        40         5       164       129   b'GALAXY'  \n",
      "927548      2207        40         5       164       348   b'GALAXY'  \n",
      "927549      2207        40         5       163       676   b'GALAXY'  \n",
      "927550      6161        40         5       119       115   b'GALAXY'  \n",
      "927551      2207        40         5       163       552   b'GALAXY'  \n",
      "\n",
      "[927552 rows x 41 columns]\n"
     ]
    }
   ],
   "source": [
    "### read in the data\n",
    "\n",
    "# SDSS emission-line catalog\n",
    "emline_dat = Table.read('/home/jordan/Documents/MOSDEF_research/data/sdss_dr7_linemeas_latest.fits', format='fits')\n",
    "emline_df = emline_dat.to_pandas()\n",
    "print(emline_df)"
   ]
  },
  {
   "cell_type": "code",
   "execution_count": 4,
   "metadata": {},
   "outputs": [
    {
     "name": "stdout",
     "output_type": "stream",
     "text": [
      "838314\n"
     ]
    }
   ],
   "source": [
    "### Here I remove all galaxies with negative flux values to remove absorption lines and/or poor measurements just to ensure a quality dataset of emission-lines\n",
    "\n",
    "emline_df.drop(emline_df[emline_df['H_ALPHA_FLUX'] <= 0].index, inplace = True)\n",
    "print(len(emline_df))\n",
    "\n",
    "### note that doing this would also work\n",
    "#emline_df_filtered = emline_df[emline_df['H_ALPHA_FLUX'] > 0]\n",
    "#print(len(emline_df_filtered))"
   ]
  },
  {
   "cell_type": "code",
   "execution_count": 5,
   "metadata": {},
   "outputs": [
    {
     "name": "stdout",
     "output_type": "stream",
     "text": [
      "838314\n"
     ]
    }
   ],
   "source": [
    "### Here I remove all galaxies with negative flux uncertainty values to remove any potential bad measurements\n",
    "\n",
    "emline_df.drop(emline_df[emline_df['H_ALPHA_FLUX_ERR'] <= 0].index, inplace = True)\n",
    "print(len(emline_df))\n",
    "# note that none were actually removed"
   ]
  },
  {
   "cell_type": "code",
   "execution_count": 6,
   "metadata": {},
   "outputs": [
    {
     "name": "stdout",
     "output_type": "stream",
     "text": [
      "     PLATEID  FIBERID  H_ALPHA_FLUX  H_ALPHA_FLUX_ERR  H_BETA_FLUX  \\\n",
      "0        266        1    462.117584         10.688581    98.786781   \n",
      "1        266        2     15.469431          6.547065     8.996722   \n",
      "2        266        4     18.467436          7.449744     6.541351   \n",
      "4        266        6    181.526215          3.646693    47.366501   \n",
      "5        266        8     13.805779          2.949589    -1.125585   \n",
      "..       ...      ...           ...               ...          ...   \n",
      "218      266      280    190.142883          2.955572    46.887146   \n",
      "220      266      283    168.464188          3.071349    41.293507   \n",
      "221      266      284     15.244759          6.840655    11.772693   \n",
      "222      266      285     72.670258          2.114458    18.126863   \n",
      "223      266      286    112.945450          3.182256    32.081799   \n",
      "\n",
      "     H_BETA_FLUX_ERR  OII_3726_FLUX  OII_3726_FLUX_ERR  OII_3729_FLUX  \\\n",
      "0           6.727546     307.001404        2327.570801      34.059772   \n",
      "1           3.622337       6.997347           5.053778      13.395111   \n",
      "2           5.414522      34.656372          11.958100     -19.340874   \n",
      "4           3.055110      29.878283           6.475568      19.592308   \n",
      "5           2.641622      12.300182           6.496102       3.876255   \n",
      "..               ...            ...                ...            ...   \n",
      "218         2.112345       0.000000          -0.741533       0.000000   \n",
      "220         2.383360      34.755196           3.539188      38.148552   \n",
      "221         5.617621      30.915352          18.739265     -31.662516   \n",
      "222         1.844457      13.758691           3.684770      18.157650   \n",
      "223         2.828219      52.730438           5.931926      31.429834   \n",
      "\n",
      "     OII_3729_FLUX_ERR  ...  FIB_SFR_MEDIAN         Z     Z_ERR    MJD  \\\n",
      "0           159.323578  ...       -1.320937  0.021275  0.000009  51602   \n",
      "1             5.195005  ...       -0.688796  0.213925  0.000052  51602   \n",
      "2            11.910530  ...       -1.315850  0.126554  0.000062  51602   \n",
      "4             6.553017  ...       -0.890750  0.055988  0.000011  51602   \n",
      "5             5.804236  ...       -1.908123  0.090633  0.000027  51602   \n",
      "..                 ...  ...             ...       ...       ...    ...   \n",
      "218          -0.741533  ...       -0.106482  0.098238  0.000010  51602   \n",
      "220           3.576994  ...        0.045765  0.142567  0.000008  51602   \n",
      "221          18.828537  ...       -1.500574  0.141531  0.000027  51602   \n",
      "222           3.593830  ...       -0.724148  0.090593  0.000013  51602   \n",
      "223           5.878477  ...       -0.942908  0.071380  0.000014  51602   \n",
      "\n",
      "     PHOTOID1  PHOTOID2  PHOTOID3  PHOTOID4  PHOTOID5  TARGETTYPE  \n",
      "0         756         1         1       206       129   b'GALAXY'  \n",
      "1         756         1         1       208       235   b'GALAXY'  \n",
      "2         752         1         2        22       228   b'GALAXY'  \n",
      "4         756         1         2       208       268   b'GALAXY'  \n",
      "5         752         1         1        20       106   b'GALAXY'  \n",
      "..        ...       ...       ...       ...       ...         ...  \n",
      "218       752         1         3        13       135   b'GALAXY'  \n",
      "220       756         1         1       196       204   b'GALAXY'  \n",
      "221       756         1         1       196       150   b'GALAXY'  \n",
      "222       752         1         1        12       149   b'GALAXY'  \n",
      "223       752         1         1        12        64   b'GALAXY'  \n",
      "\n",
      "[200 rows x 41 columns]\n"
     ]
    }
   ],
   "source": [
    "# the full SDSS sample is massive with over 800,000 objects\n",
    "# to speed up this example, I'm going to only use the first 200 rows that fit this above Ha flux criteria \n",
    "emline_df = emline_df.head(200)\n",
    "print(emline_df)"
   ]
  },
  {
   "cell_type": "code",
   "execution_count": 7,
   "metadata": {},
   "outputs": [],
   "source": [
    "### function to estimate median uncertainty for a quantity NOT including uncertainties\n",
    "\n",
    "def median_w_bootstrap_uncertainty(data, data_name):\n",
    "    bootstrap_function = bootstrap(data, 10000) # the 10000 is the number of times the data is resampled\n",
    "    median_array = []\n",
    "    for i in range(0, len(bootstrap_function), 1):\n",
    "        median_array.append(np.median(bootstrap_function[i]))\n",
    "    print(\"Median \", data_name, \" = \", np.median(data), \"+/-\", np.std(median_array)) # this prints \"median +/- uncertainty\"\n",
    "    median_uncertainty = np.std(median_array)\n",
    "    return median_uncertainty # this returns the median uncertainty for later use"
   ]
  },
  {
   "cell_type": "code",
   "execution_count": 8,
   "metadata": {},
   "outputs": [
    {
     "name": "stdout",
     "output_type": "stream",
     "text": [
      "Median  Ha flux  =  45.06769561767578 +/- 8.845510813600852\n"
     ]
    }
   ],
   "source": [
    "### estimate median Ha flux (without flux uncertainties)\n",
    "\n",
    "med_ha_err = median_w_bootstrap_uncertainty(emline_df[\"H_ALPHA_FLUX\"].values, \"Ha flux\")"
   ]
  },
  {
   "cell_type": "code",
   "execution_count": 9,
   "metadata": {},
   "outputs": [
    {
     "name": "stdout",
     "output_type": "stream",
     "text": [
      "8.845510813600852\n"
     ]
    }
   ],
   "source": [
    "print(med_ha_err)"
   ]
  },
  {
   "cell_type": "code",
   "execution_count": 10,
   "metadata": {},
   "outputs": [],
   "source": [
    "### estimate median Ha flux (with flux uncertainties)\n",
    "# note that this step takes a bit of time because the SDSS sample is so large (~800,000 galaxies)\n",
    "\n",
    "med_ha_arr = []\n",
    "for i in range(10000):\n",
    "    randind = np.random.randint(len(emline_df[\"H_ALPHA_FLUX\"].values), size=len(emline_df[\"H_ALPHA_FLUX\"].values))   # this line selects N random integers ranging from 0 to N, where N is the size of the dataset, i.e., it gives the indices for resampling w/ replacement\n",
    "    ha_flux_new = np.random.normal(emline_df[\"H_ALPHA_FLUX\"].values[randind], emline_df[\"H_ALPHA_FLUX_ERR\"].values[randind])  # this line resamples before perturbing according to the normal measurment errors\n",
    "    ha_flux_m = np.median(ha_flux_new)\n",
    "    med_ha_arr.append(ha_flux_m)\n",
    "\n",
    "med_ha_err_v2 = np.std(med_ha_arr)\n"
   ]
  },
  {
   "cell_type": "code",
   "execution_count": 11,
   "metadata": {},
   "outputs": [
    {
     "name": "stdout",
     "output_type": "stream",
     "text": [
      "8.384068017559999\n",
      "21890.451171875\n"
     ]
    }
   ],
   "source": [
    "print(med_ha_err_v2)\n",
    "print(np.max(emline_df[\"H_ALPHA_FLUX\"].values))"
   ]
  },
  {
   "cell_type": "code",
   "execution_count": 12,
   "metadata": {},
   "outputs": [
    {
     "data": {
      "image/png": "[encoded data removed]",
      "text/plain": [
       "<Figure size 432x288 with 1 Axes>"
      ]
     },
     "metadata": {
      "needs_background": "light"
     },
     "output_type": "display_data"
    }
   ],
   "source": [
    "### plot the distribution with the medians \n",
    "\n",
    "# full distribution\n",
    "plt.hist(emline_df[\"H_ALPHA_FLUX\"].values, color=\"dodgerblue\", label=r'$\\rm H\\alpha \\ Fluxes$')\n",
    "plt.errorbar(np.median(emline_df[\"H_ALPHA_FLUX\"].values), [0,1000], color='gold', linewidth=2, zorder=1000, label=r'$\\rm Median \\ H\\alpha \\ Flux$')\n",
    "plt.axvspan(np.median(emline_df[\"H_ALPHA_FLUX\"].values)-med_ha_err_v2, np.median(emline_df[\"H_ALPHA_FLUX\"].values)+med_ha_err_v2, alpha=0.6, color='gold', zorder=1000)\n",
    "plt.ylim([0,200])\n",
    "plt.xlabel(r'$\\rm H\\alpha \\ Flux \\ (cgs \\ units)$')#, fontsize=40)\n",
    "plt.ylabel(r'$\\rm N_{gal}$')#, fontsize=40)\n",
    "plt.legend(loc=\"upper right\", frameon=False)\n",
    "plt.show()"
   ]
  },
  {
   "cell_type": "code",
   "execution_count": 13,
   "metadata": {},
   "outputs": [
    {
     "data": {
      "image/png": "[encoded data removed]",
      "text/plain": [
       "<Figure size 432x288 with 1 Axes>"
      ]
     },
     "metadata": {
      "needs_background": "light"
     },
     "output_type": "display_data"
    }
   ],
   "source": [
    "### the one outlier with very high Ha flux makes the plot difficult to read, so let's not show it on the plot\n",
    "\n",
    "plt.hist(emline_df[\"H_ALPHA_FLUX\"].values, bins=np.arange(0, 2500, 100), color=\"dodgerblue\", label=r'$\\rm H\\alpha \\ Fluxes$')\n",
    "plt.errorbar(np.median(emline_df[\"H_ALPHA_FLUX\"].values), [0,1000], color='gold', linewidth=2, zorder=1000, label=r'$\\rm Median \\ H\\alpha \\ Flux$')\n",
    "plt.axvspan(np.median(emline_df[\"H_ALPHA_FLUX\"].values)-med_ha_err_v2, np.median(emline_df[\"H_ALPHA_FLUX\"].values)+med_ha_err_v2, alpha=0.6, color='gold', zorder=1000)\n",
    "plt.ylim([0,150])\n",
    "plt.xlabel(r'$\\rm H\\alpha \\ Flux \\ (cgs \\ units)$')\n",
    "plt.ylabel(r'$\\rm N_{gal}$')\n",
    "plt.legend(loc=\"upper right\", frameon=False)\n",
    "plt.show()"
   ]
  },
  {
   "cell_type": "code",
   "execution_count": 14,
   "metadata": {},
   "outputs": [
    {
     "data": {
      "image/png": "[encoded data removed]",
      "text/plain": [
       "<Figure size 432x288 with 1 Axes>"
      ]
     },
     "metadata": {
      "needs_background": "light"
     },
     "output_type": "display_data"
    }
   ],
   "source": [
    "### the graph is still a little hard to digest because of the large spread of data values over multiple orders of magnitude\n",
    "### therefore, let's plot the data in log space\n",
    "\n",
    "# convert the flux median uncertainty to log form\n",
    "log_med_ha_err_v2 = med_ha_err_v2/np.median(emline_df[\"H_ALPHA_FLUX\"].values)\n",
    "\n",
    "# plot in log space\n",
    "plt.hist(np.log10(emline_df[\"H_ALPHA_FLUX\"].values), bins=np.arange(0, 5.0, 0.5), color=\"dodgerblue\", label=r'$\\rm H\\alpha \\ Fluxes$')\n",
    "plt.errorbar(np.log10(np.median(emline_df[\"H_ALPHA_FLUX\"].values)), [0,1000], color='gold', linewidth=2, zorder=1000, label=r'$\\rm Median \\ H\\alpha \\ Flux$')\n",
    "plt.axvspan(np.log10(np.median(emline_df[\"H_ALPHA_FLUX\"].values))-log_med_ha_err_v2, np.log10(np.median(emline_df[\"H_ALPHA_FLUX\"].values))+log_med_ha_err_v2, alpha=0.6, color='gold', zorder=1000)\n",
    "plt.ylim([0, 55])\n",
    "plt.xlabel(r'$\\rm H\\alpha \\ Flux \\ (cgs \\ units)$')\n",
    "plt.ylabel(r'$\\rm N_{gal}$')\n",
    "plt.legend(loc=\"upper right\", frameon=False)\n",
    "plt.show()"
   ]
  },
  {
   "cell_type": "code",
   "execution_count": null,
   "metadata": {},
   "outputs": [],
   "source": []
  }
 ],
 "metadata": {
  "kernelspec": {
   "display_name": "Python 3",
   "language": "python",
   "name": "python3"
  },
  "language_info": {
   "codemirror_mode": {
    "name": "ipython",
    "version": 3
   },
   "file_extension": ".py",
   "mimetype": "text/x-python",
   "name": "python",
   "nbconvert_exporter": "python",
   "pygments_lexer": "ipython3",
   "version": "3.7.6"
  }
 },
 "nbformat": 4,
 "nbformat_minor": 4
}
